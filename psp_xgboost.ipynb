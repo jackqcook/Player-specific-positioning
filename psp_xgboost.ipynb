{
 "cells": [
  {
   "cell_type": "code",
   "execution_count": 1,
   "metadata": {},
   "outputs": [],
   "source": [
    "import xgboost as xgb\n",
    "import pandas as pd\n",
    "import sklearn as sk\n",
    "import seaborn as sns\n",
    "import matplotlib.pyplot as plt\n",
    "import numpy as np\n",
    "import torch as pt\n",
    "from sklearn.datasets import load_iris\n",
    "from sklearn.linear_model import LogisticRegression\n",
    "from sklearn.model_selection import train_test_split\n",
    "from sklearn.decomposition import PCA\n",
    "\n",
    "\n"
   ]
  },
  {
   "cell_type": "code",
   "execution_count": 2,
   "metadata": {},
   "outputs": [],
   "source": [
    "df = pd.read_csv(\"braves_23_sim.csv\")"
   ]
  },
  {
   "cell_type": "code",
   "execution_count": 4,
   "metadata": {},
   "outputs": [
    {
     "name": "stdout",
     "output_type": "stream",
     "text": [
      "[0]\tvalidation_0-logloss:0.56671\n",
      "[1]\tvalidation_0-logloss:0.52751\n",
      "[2]\tvalidation_0-logloss:0.49463\n",
      "[3]\tvalidation_0-logloss:0.47623\n",
      "[4]\tvalidation_0-logloss:0.46797\n",
      "[5]\tvalidation_0-logloss:0.46320\n",
      "[6]\tvalidation_0-logloss:0.44866\n",
      "[7]\tvalidation_0-logloss:0.44403\n",
      "[8]\tvalidation_0-logloss:0.44493\n",
      "[9]\tvalidation_0-logloss:0.44239\n",
      "[10]\tvalidation_0-logloss:0.44304\n",
      "[11]\tvalidation_0-logloss:0.44434\n"
     ]
    }
   ],
   "source": [
    "#XGBoost Model\n",
    "import xgboost as xgb\n",
    "\n",
    "X = df[[\"launch_angle\",\"launch_speed\", \"hit_direction\", \"hangtime\", \"distance\", \"landing_x\", \"landing_y\", \"responsible_fielder_depth\"]]\n",
    "y = df[\"is_out\"]\n",
    "\n",
    "# Splitting the dataset into training and testing sets\n",
    "X_train, X_test, y_train, y_test = train_test_split(X, y, test_size=0.2, random_state=0)\n",
    "X_train, X_test, y_train, y_test = train_test_split(X, y, stratify=y, random_state=94)\n",
    "\n",
    "# Use \"hist\" for constructing the trees, with early stopping enabled.\n",
    "clf = xgb.XGBClassifier(tree_method=\"hist\", early_stopping_rounds=2)\n",
    "# Fit the model, test sets are used for early stopping.\n",
    "clf.fit(X_train, y_train, eval_set=[(X_test, y_test)])\n",
    "# Save model into JSON format.\n",
    "clf.save_model(\"clf.json\")"
   ]
  }
 ],
 "metadata": {
  "kernelspec": {
   "display_name": "base",
   "language": "python",
   "name": "python3"
  },
  "language_info": {
   "codemirror_mode": {
    "name": "ipython",
    "version": 3
   },
   "file_extension": ".py",
   "mimetype": "text/x-python",
   "name": "python",
   "nbconvert_exporter": "python",
   "pygments_lexer": "ipython3",
   "version": "3.11.4"
  }
 },
 "nbformat": 4,
 "nbformat_minor": 2
}
